{
 "cells": [
  {
   "cell_type": "markdown",
   "metadata": {},
   "source": [
    "Домашняя работа №1. Каменев Владислав Валерьевич М3437. Вариант №76"
   ]
  },
  {
   "cell_type": "code",
   "execution_count": 15,
   "metadata": {},
   "outputs": [],
   "source": [
    "import numpy as np\n",
    "import matplotlib.pyplot as plt"
   ]
  },
  {
   "cell_type": "code",
   "execution_count": 95,
   "metadata": {},
   "outputs": [],
   "source": [
    "k = 2 + 76 * 0.1\n",
    "phi = (1 + np.sqrt(5)) / 2\n",
    "epsilon = 1e-6\n",
    "counter = 0\n",
    "def f(x):\n",
    "    global counter\n",
    "    counter += 1\n",
    "    return np.exp(np.sqrt(x)) + k * np.exp(-k * x)"
   ]
  },
  {
   "cell_type": "code",
   "execution_count": 96,
   "metadata": {},
   "outputs": [
    {
     "data": {
      "image/png": "[encoded data removed]",
      "text/plain": [
       "<matplotlib.figure.Figure at 0x7fde583e20b8>"
      ]
     },
     "metadata": {},
     "output_type": "display_data"
    }
   ],
   "source": [
    "xs = [i / 100 for i in range(0, 10 * 100)]\n",
    "fs = [f(i) for i in xs]\n",
    "plt.plot(xs, fs)\n",
    "plt.show()\n"
   ]
  },
  {
   "cell_type": "markdown",
   "metadata": {},
   "source": [
    "Нарисовали график функции. Будем искать минимум на отрезке [0,2]"
   ]
  },
  {
   "cell_type": "code",
   "execution_count": 97,
   "metadata": {},
   "outputs": [],
   "source": [
    "a, b = 0, 2"
   ]
  },
  {
   "cell_type": "markdown",
   "metadata": {
    "collapsed": true
   },
   "source": [
    "Метод сканирования. Используем К равным 100"
   ]
  },
  {
   "cell_type": "code",
   "execution_count": 98,
   "metadata": {},
   "outputs": [],
   "source": [
    "def scan(a, b, k, f):\n",
    "    currMinimum = f(a)\n",
    "    currX = a\n",
    "    for i in range(k):\n",
    "        temp = a + (i+1)*(b-a)/k\n",
    "        y = f(temp)\n",
    "        if (y < currMinimum):\n",
    "            currMinimum = y\n",
    "            currX = temp\n",
    "    return currX"
   ]
  },
  {
   "cell_type": "code",
   "execution_count": 99,
   "metadata": {},
   "outputs": [
    {
     "name": "stdout",
     "output_type": "stream",
     "text": [
      "Метод сканирования.\n",
      "Минимум 2.0817798312032347 при x = 0.44.\n",
      "Количество вычислений функции: 1101\n"
     ]
    }
   ],
   "source": [
    "x = scan(a, b, 100, f)\n",
    "print(\"Метод сканирования.\\nМинимум {} при x = {}.\\nКоличество вычислений функции: {}\".format(f(x), x, counter - 1))\n",
    "counter = 0"
   ]
  },
  {
   "cell_type": "markdown",
   "metadata": {},
   "source": [
    "Метод дихотомии."
   ]
  },
  {
   "cell_type": "code",
   "execution_count": 100,
   "metadata": {},
   "outputs": [],
   "source": [
    "def dixotonomy(a, b, f):\n",
    "    currA = a\n",
    "    currB = b\n",
    "    while currB - currA > epsilon:\n",
    "        currentX = (currA + currB) / 2\n",
    "        F1 = f(currentX - epsilon)\n",
    "        F2 = f(currentX + epsilon)\n",
    "        if (F1 < F2):\n",
    "            currB = currentX\n",
    "        else:\n",
    "            currA = currentX\n",
    "    return (currB + currA) / 2"
   ]
  },
  {
   "cell_type": "code",
   "execution_count": 101,
   "metadata": {},
   "outputs": [
    {
     "name": "stdout",
     "output_type": "stream",
     "text": [
      "Метод дихотомии.\n",
      "Минимум 2.081270212982435 при x = 0.43118906021118164.\n",
      "Количество вычислений функции: 42\n"
     ]
    }
   ],
   "source": [
    "x = dixotonomy(a, b, f)\n",
    "print(\"Метод дихотомии.\\nМинимум {} при x = {}.\\nКоличество вычислений функции: {}\".format(f(x), x, counter - 1))\n",
    "counter = 0"
   ]
  },
  {
   "cell_type": "markdown",
   "metadata": {},
   "source": [
    "Метод золотого сечения."
   ]
  },
  {
   "cell_type": "code",
   "execution_count": 102,
   "metadata": {},
   "outputs": [],
   "source": [
    "def golden(a, b, f):\n",
    "    while np.abs(f(b) - f(a)) > epsilon:\n",
    "        x1 = b - (b - a) / phi\n",
    "        x2 = a + (b - a) / phi\n",
    "        if f(x1) >= f(x2):\n",
    "            a = x1\n",
    "        else:\n",
    "            b = x2\n",
    "    return (a + b) / 2"
   ]
  },
  {
   "cell_type": "code",
   "execution_count": 103,
   "metadata": {},
   "outputs": [
    {
     "name": "stdout",
     "output_type": "stream",
     "text": [
      "Метод золотого сечения.\n",
      "Минимум 2.0812702141777826 при x = 0.43120282763858997.\n",
      "Количество вычислений функции: 62\n"
     ]
    }
   ],
   "source": [
    "x = golden(a, b, f)\n",
    "print(\"Метод золотого сечения.\\nМинимум {} при x = {}.\\nКоличество вычислений функции: {}\".format(f(x), x, counter - 1))"
   ]
  },
  {
   "cell_type": "markdown",
   "metadata": {},
   "source": [
    "Метод Фибоначчи"
   ]
  },
  {
   "cell_type": "code",
   "execution_count": 141,
   "metadata": {},
   "outputs": [
    {
     "name": "stdout",
     "output_type": "stream",
     "text": [
      "Для epsilon = 0.005, n будет 12\n"
     ]
    }
   ],
   "source": [
    "# Задаем последовательность Фибоначчи\n",
    "fib_sequence = [1,1]\n",
    "for i in range(50):\n",
    "    fib_sequence.append(fib_sequence[-1] + fib_sequence[-2])\n",
    "    \n",
    "# Найдем начальное N\n",
    "epsilon = 0.005\n",
    "check = (b-a)/epsilon\n",
    "n = 0\n",
    "for i, fib in enumerate(fib_sequence):\n",
    "    if fib > check:\n",
    "        n = i - 2\n",
    "        break\n",
    "print(\"Для epsilon = {}, n будет {}\".format(epsilon, n))"
   ]
  },
  {
   "cell_type": "code",
   "execution_count": 156,
   "metadata": {},
   "outputs": [],
   "source": [
    "def fibonacci(a, b, f):\n",
    "    global n\n",
    "    fc = 0\n",
    "    fd = 0\n",
    "    c = a + (b - a) * fib_sequence[n] / fib_sequence[n + 2]\n",
    "    d = a + (b - a) * fib_sequence[n + 1] / fib_sequence[n + 2]\n",
    "    fc = f(c)\n",
    "    fd = f(d)\n",
    "    for i in range(1, n + 1):\n",
    "        if fc < fd:\n",
    "            b = d\n",
    "            d = c\n",
    "            if (i == n):\n",
    "                break\n",
    "            c = a + (b - a) * fib_sequence[n - i] / fib_sequence[n + 2 - i]\n",
    "            fd = fc\n",
    "            fc = f(c)\n",
    "        else:\n",
    "            a = c\n",
    "            c = d\n",
    "            if (i == n):\n",
    "                break\n",
    "            d = a + (b - a) * fib_sequence[n + 1 - i] / fib_sequence[n + 2 - i]\n",
    "            fc = fd\n",
    "            fd = f(d)\n",
    "    return (a + b) / 2"
   ]
  },
  {
   "cell_type": "code",
   "execution_count": 157,
   "metadata": {},
   "outputs": [
    {
     "name": "stdout",
     "output_type": "stream",
     "text": [
      "Метод Фибоначчи.\n",
      "Минимум 2.0812873607271345 при x = 0.43278688524590164.\n",
      "Количество вычислений функции: 13\n"
     ]
    }
   ],
   "source": [
    "x = fibonacci(a, b, f)\n",
    "print(\"Метод Фибоначчи.\\nМинимум {} при x = {}.\\nКоличество вычислений функции: {}\".format(f(x), x, counter - 1))\n",
    "counter = 0"
   ]
  },
  {
   "cell_type": "code",
   "execution_count": null,
   "metadata": {},
   "outputs": [],
   "source": []
  }
 ],
 "metadata": {
  "anaconda-cloud": {},
  "kernelspec": {
   "display_name": "Python 3",
   "language": "python",
   "name": "python3"
  },
  "language_info": {
   "codemirror_mode": {
    "name": "ipython",
    "version": 3
   },
   "file_extension": ".py",
   "mimetype": "text/x-python",
   "name": "python",
   "nbconvert_exporter": "python",
   "pygments_lexer": "ipython3",
   "version": "3.5.2"
  }
 },
 "nbformat": 4,
 "nbformat_minor": 2
}
