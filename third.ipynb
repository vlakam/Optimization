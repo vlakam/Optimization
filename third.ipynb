{
 "cells": [
  {
   "cell_type": "code",
   "execution_count": 42,
   "metadata": {},
   "outputs": [],
   "source": [
    "from sympy import *\n",
    "import math\n",
    "init_printing(use_unicode=True)\n",
    "from scipy.linalg import inv\n",
    "import numpy as np"
   ]
  },
  {
   "cell_type": "code",
   "execution_count": 48,
   "metadata": {},
   "outputs": [],
   "source": [
    "def f1(x, y):\n",
    "    global count\n",
    "    count +=1\n",
    "    return 2*x**4 + 5*x**6 + 16*(x**3)*y + 4*y**2 - 8*(x**2)*(y**3) + 2*y**6"
   ]
  },
  {
   "cell_type": "code",
   "execution_count": 49,
   "metadata": {},
   "outputs": [
    {
     "name": "stdout",
     "output_type": "stream",
     "text": [
      "dx: 30*x**5 + 8*x**3 + 48*x**2*y - 16*x*y**3\n",
      "\n",
      "dy: 16*x**3 - 24*x**2*y**2 + 12*y**5 + 8*y\n",
      "\n",
      "[[150*x**4 + 24*x**2 + 96*x*y - 16*y**3, 48*x**2 - 48*x*y**2], [48*x**2 - 48*x*y**2, -48*x**2*y + 60*y**4 + 8]]\n"
     ]
    }
   ],
   "source": [
    "x, y = symbols('x y', real=True)\n",
    "func = 2*x**4 + 5*x**6 + 16*(x**3)*y + 4*y**2 - 8*(x**2)*(y**3) + 2*y**6\n",
    "\n",
    "f1_res = [diff(func, x), diff(func, y)]\n",
    "print(\"dx:\", f1_res[0])\n",
    "print(\"\")\n",
    "print(\"dy:\", f1_res[1])\n",
    "print(\"\")\n",
    "\n",
    "f2_res = [[diff(f1_res[0], x), diff(f1_res[0], y)],\n",
    "     [diff(f1_res[1], x), diff(f1_res[1], y)]]\n",
    "\n",
    "print(f2_res)"
   ]
  },
  {
   "cell_type": "code",
   "execution_count": 50,
   "metadata": {},
   "outputs": [],
   "source": [
    "eps = 1e-3\n",
    "propotion1 = (math.sqrt(5) - 1)/2\n",
    "propotion2 = (3 - math.sqrt(5))/2\n",
    "count = 0\n",
    "def getGoldenRatio(f, a, b):\n",
    "    global count\n",
    "    curA = a\n",
    "    curB = b\n",
    "    curC = None\n",
    "    curD = None\n",
    "    while ((curB - curA)/2 > eps):\n",
    "        if (curC is None):\n",
    "            curC = propotion2 * (curB - curA) + curA\n",
    "            r1 = f(curC)\n",
    "            count += 1\n",
    "        if (curD is None):\n",
    "            curD = propotion1 * (curB - curA) + curA\n",
    "            r2 = f(curD)\n",
    "            count = count + 1\n",
    "\n",
    "        if (r1 <= r2):\n",
    "            curB = curD\n",
    "            curD = curC\n",
    "            r2 = r1\n",
    "            curC = None\n",
    "        else:\n",
    "            curA = curC\n",
    "            curC = curD\n",
    "            r1 = r2\n",
    "            curD = None\n",
    "    return curA"
   ]
  },
  {
   "cell_type": "code",
   "execution_count": 51,
   "metadata": {},
   "outputs": [],
   "source": [
    "curX = -2\n",
    "curY = 2.\n",
    "curF = f1(curX, curY)\n",
    "EPS = 1e-7\n",
    "count = 0\n",
    "iterCount = 0\n",
    "\n",
    "while(True):\n",
    "    matrix1 = [f1_res[0].subs({x:curX, y: curY}).evalf(), f1_res[1].subs({x:curX, y: curY}).evalf()]\n",
    "    matrix2 = np.array([[f2_res[0][0].subs({x:curX, y: curY}).evalf(), f2_res[0][1].subs({x:curX, y: curY}).evalf()],\n",
    "              [f2_res[1][0].subs({x:curX, y: curY}).evalf(), f2_res[1][1].subs({x:curX, y: curY}).evalf()]], dtype=np.float)\n",
    "    matrix2 = inv(matrix2)\n",
    "\n",
    "    newF = lambda alpha : f1(curX - alpha * (matrix2[0][0]*matrix1[0] + matrix2[0][1]*matrix1[1]), \n",
    "                            curY - alpha * (matrix2[1][0]*matrix1[0] + matrix2[1][1]*matrix1[1]))\n",
    "    \n",
    "    resA = getGoldenRatio(newF, -100, 100)\n",
    "\n",
    "    curX = curX - resA * (matrix2[0][0]*matrix1[0] + matrix2[0][1]*matrix1[1])\n",
    "    curY = curY - resA * (matrix2[1][0]*matrix1[0] + matrix2[1][1]*matrix1[1])\n",
    "    \n",
    "    newF = f1(curX, curY)\n",
    "    if (abs(newF - curF) <= EPS):\n",
    "        break;\n",
    "    curF = newF"
   ]
  },
  {
   "cell_type": "code",
   "execution_count": 53,
   "metadata": {},
   "outputs": [
    {
     "name": "stdout",
     "output_type": "stream",
     "text": [
      "Метод Ньютона.\n",
      "Минимум -62.2708542433400 при x = -1.69662055813365, y = 1.92771125898748.\n",
      "Количество вычислений функции: 205\n"
     ]
    }
   ],
   "source": [
    "print(\"Метод Ньютона.\\nМинимум {} при x = {}, y = {}.\\nКоличество вычислений функции: {}\".format(f1(curX, curY), curX, curY, count-1))"
   ]
  },
  {
   "cell_type": "code",
   "execution_count": null,
   "metadata": {},
   "outputs": [],
   "source": []
  },
  {
   "cell_type": "code",
   "execution_count": null,
   "metadata": {},
   "outputs": [],
   "source": []
  }
 ],
 "metadata": {
  "kernelspec": {
   "display_name": "Python 3",
   "language": "python",
   "name": "python3"
  },
  "language_info": {
   "codemirror_mode": {
    "name": "ipython",
    "version": 3
   },
   "file_extension": ".py",
   "mimetype": "text/x-python",
   "name": "python",
   "nbconvert_exporter": "python",
   "pygments_lexer": "ipython3",
   "version": "3.5.2"
  }
 },
 "nbformat": 4,
 "nbformat_minor": 2
}
